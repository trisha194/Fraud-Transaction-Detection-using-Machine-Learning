{
  "nbformat": 4,
  "nbformat_minor": 0,
  "metadata": {
    "colab": {
      "provenance": []
    },
    "kernelspec": {
      "name": "python3",
      "display_name": "Python 3"
    },
    "language_info": {
      "name": "python"
    }
  },
  "cells": [
    {
      "cell_type": "code",
      "execution_count": 1,
      "metadata": {
        "colab": {
          "base_uri": "https://localhost:8080/"
        },
        "id": "HFH2EF0jqkzT",
        "outputId": "e19c5737-a1df-4bcb-d017-34d4581362c9"
      },
      "outputs": [
        {
          "output_type": "stream",
          "name": "stdout",
          "text": [
            "Collecting vaex\n",
            "  Downloading vaex-4.17.0-py3-none-any.whl.metadata (6.0 kB)\n",
            "Collecting vaex-core~=4.17.1 (from vaex)\n",
            "  Downloading vaex_core-4.17.1-cp310-cp310-manylinux_2_17_x86_64.manylinux2014_x86_64.whl.metadata (1.1 kB)\n",
            "Collecting vaex-astro<0.10,>=0.9.3 (from vaex)\n",
            "  Downloading vaex_astro-0.9.3-py3-none-any.whl.metadata (345 bytes)\n",
            "Collecting vaex-hdf5<0.15,>=0.13.0 (from vaex)\n",
            "  Downloading vaex_hdf5-0.14.1-py3-none-any.whl.metadata (321 bytes)\n",
            "Collecting vaex-viz<0.6,>=0.5.4 (from vaex)\n",
            "  Downloading vaex_viz-0.5.4-py3-none-any.whl.metadata (345 bytes)\n",
            "Collecting vaex-server~=0.9.0 (from vaex)\n",
            "  Downloading vaex_server-0.9.0-py3-none-any.whl.metadata (430 bytes)\n",
            "Collecting vaex-jupyter<0.9,>=0.8.2 (from vaex)\n",
            "  Downloading vaex_jupyter-0.8.2-py3-none-any.whl.metadata (517 bytes)\n",
            "Collecting vaex-ml<0.19,>=0.18.3 (from vaex)\n",
            "  Downloading vaex_ml-0.18.3-py3-none-any.whl.metadata (485 bytes)\n",
            "Requirement already satisfied: astropy in /usr/local/lib/python3.10/dist-packages (from vaex-astro<0.10,>=0.9.3->vaex) (6.1.4)\n",
            "Requirement already satisfied: numpy>=1.16 in /usr/local/lib/python3.10/dist-packages (from vaex-core~=4.17.1->vaex) (1.26.4)\n",
            "Collecting aplus (from vaex-core~=4.17.1->vaex)\n",
            "  Downloading aplus-0.11.0.tar.gz (3.7 kB)\n",
            "  Preparing metadata (setup.py) ... \u001b[?25l\u001b[?25hdone\n",
            "Requirement already satisfied: tabulate>=0.8.3 in /usr/local/lib/python3.10/dist-packages (from vaex-core~=4.17.1->vaex) (0.9.0)\n",
            "Requirement already satisfied: future>=0.15.2 in /usr/local/lib/python3.10/dist-packages (from vaex-core~=4.17.1->vaex) (1.0.0)\n",
            "Requirement already satisfied: pyyaml in /usr/local/lib/python3.10/dist-packages (from vaex-core~=4.17.1->vaex) (6.0.2)\n",
            "Requirement already satisfied: progressbar2 in /usr/local/lib/python3.10/dist-packages (from vaex-core~=4.17.1->vaex) (4.5.0)\n",
            "Requirement already satisfied: requests in /usr/local/lib/python3.10/dist-packages (from vaex-core~=4.17.1->vaex) (2.32.3)\n",
            "Requirement already satisfied: six in /usr/local/lib/python3.10/dist-packages (from vaex-core~=4.17.1->vaex) (1.16.0)\n",
            "Requirement already satisfied: cloudpickle in /usr/local/lib/python3.10/dist-packages (from vaex-core~=4.17.1->vaex) (2.2.1)\n",
            "Requirement already satisfied: pandas in /usr/local/lib/python3.10/dist-packages (from vaex-core~=4.17.1->vaex) (2.2.2)\n",
            "Requirement already satisfied: dask!=2022.4.0 in /usr/local/lib/python3.10/dist-packages (from vaex-core~=4.17.1->vaex) (2024.8.0)\n",
            "Requirement already satisfied: nest-asyncio>=1.3.3 in /usr/local/lib/python3.10/dist-packages (from vaex-core~=4.17.1->vaex) (1.6.0)\n",
            "Requirement already satisfied: pyarrow>=5.0.0 in /usr/local/lib/python3.10/dist-packages (from vaex-core~=4.17.1->vaex) (16.1.0)\n",
            "Requirement already satisfied: frozendict!=2.2.0 in /usr/local/lib/python3.10/dist-packages (from vaex-core~=4.17.1->vaex) (2.4.5)\n",
            "Collecting blake3 (from vaex-core~=4.17.1->vaex)\n",
            "  Downloading blake3-0.4.1-cp310-cp310-manylinux_2_17_x86_64.manylinux2014_x86_64.whl.metadata (4.1 kB)\n",
            "Requirement already satisfied: filelock in /usr/local/lib/python3.10/dist-packages (from vaex-core~=4.17.1->vaex) (3.16.1)\n",
            "Requirement already satisfied: pydantic>=1.8.0 in /usr/local/lib/python3.10/dist-packages (from vaex-core~=4.17.1->vaex) (2.9.2)\n",
            "Requirement already satisfied: rich in /usr/local/lib/python3.10/dist-packages (from vaex-core~=4.17.1->vaex) (13.9.2)\n",
            "Requirement already satisfied: h5py>=2.9 in /usr/local/lib/python3.10/dist-packages (from vaex-hdf5<0.15,>=0.13.0->vaex) (3.11.0)\n",
            "Requirement already satisfied: bqplot>=0.10.1 in /usr/local/lib/python3.10/dist-packages (from vaex-jupyter<0.9,>=0.8.2->vaex) (0.12.43)\n",
            "Collecting ipyvolume>=0.4 (from vaex-jupyter<0.9,>=0.8.2->vaex)\n",
            "  Downloading ipyvolume-0.6.3-py3-none-any.whl.metadata (2.3 kB)\n",
            "Requirement already satisfied: ipyleaflet in /usr/local/lib/python3.10/dist-packages (from vaex-jupyter<0.9,>=0.8.2->vaex) (0.19.2)\n",
            "Collecting ipympl (from vaex-jupyter<0.9,>=0.8.2->vaex)\n",
            "  Downloading ipympl-0.9.4-py3-none-any.whl.metadata (8.7 kB)\n",
            "Collecting ipyvuetify<2,>=1.2.2 (from vaex-jupyter<0.9,>=0.8.2->vaex)\n",
            "  Downloading ipyvuetify-1.10.0-py2.py3-none-any.whl.metadata (7.5 kB)\n",
            "Requirement already satisfied: xarray in /usr/local/lib/python3.10/dist-packages (from vaex-jupyter<0.9,>=0.8.2->vaex) (2024.9.0)\n",
            "Requirement already satisfied: numba in /usr/local/lib/python3.10/dist-packages (from vaex-ml<0.19,>=0.18.3->vaex) (0.60.0)\n",
            "Requirement already satisfied: traitlets in /usr/local/lib/python3.10/dist-packages (from vaex-ml<0.19,>=0.18.3->vaex) (5.7.1)\n",
            "Requirement already satisfied: jinja2 in /usr/local/lib/python3.10/dist-packages (from vaex-ml<0.19,>=0.18.3->vaex) (3.1.4)\n",
            "Requirement already satisfied: tornado>4.1 in /usr/local/lib/python3.10/dist-packages (from vaex-server~=0.9.0->vaex) (6.3.3)\n",
            "Requirement already satisfied: cachetools in /usr/local/lib/python3.10/dist-packages (from vaex-server~=0.9.0->vaex) (5.5.0)\n",
            "Collecting fastapi (from vaex-server~=0.9.0->vaex)\n",
            "  Downloading fastapi-0.115.2-py3-none-any.whl.metadata (27 kB)\n",
            "Collecting uvicorn[standard] (from vaex-server~=0.9.0->vaex)\n",
            "  Downloading uvicorn-0.32.0-py3-none-any.whl.metadata (6.6 kB)\n",
            "Requirement already satisfied: matplotlib>=1.3.1 in /usr/local/lib/python3.10/dist-packages (from vaex-viz<0.6,>=0.5.4->vaex) (3.7.1)\n",
            "Requirement already satisfied: pillow in /usr/local/lib/python3.10/dist-packages (from vaex-viz<0.6,>=0.5.4->vaex) (10.4.0)\n",
            "Requirement already satisfied: ipywidgets<9,>=7.5.0 in /usr/local/lib/python3.10/dist-packages (from bqplot>=0.10.1->vaex-jupyter<0.9,>=0.8.2->vaex) (7.7.1)\n",
            "Requirement already satisfied: traittypes>=0.0.6 in /usr/local/lib/python3.10/dist-packages (from bqplot>=0.10.1->vaex-jupyter<0.9,>=0.8.2->vaex) (0.2.1)\n",
            "Requirement already satisfied: click>=8.1 in /usr/local/lib/python3.10/dist-packages (from dask!=2022.4.0->vaex-core~=4.17.1->vaex) (8.1.7)\n",
            "Requirement already satisfied: fsspec>=2021.09.0 in /usr/local/lib/python3.10/dist-packages (from dask!=2022.4.0->vaex-core~=4.17.1->vaex) (2024.6.1)\n",
            "Requirement already satisfied: packaging>=20.0 in /usr/local/lib/python3.10/dist-packages (from dask!=2022.4.0->vaex-core~=4.17.1->vaex) (24.1)\n",
            "Requirement already satisfied: partd>=1.4.0 in /usr/local/lib/python3.10/dist-packages (from dask!=2022.4.0->vaex-core~=4.17.1->vaex) (1.4.2)\n",
            "Requirement already satisfied: toolz>=0.10.0 in /usr/local/lib/python3.10/dist-packages (from dask!=2022.4.0->vaex-core~=4.17.1->vaex) (0.12.1)\n",
            "Requirement already satisfied: importlib-metadata>=4.13.0 in /usr/local/lib/python3.10/dist-packages (from dask!=2022.4.0->vaex-core~=4.17.1->vaex) (8.5.0)\n",
            "Collecting ipywebrtc (from ipyvolume>=0.4->vaex-jupyter<0.9,>=0.8.2->vaex)\n",
            "  Downloading ipywebrtc-0.6.0-py2.py3-none-any.whl.metadata (825 bytes)\n",
            "Collecting ipyvue>=1.7.0 (from ipyvolume>=0.4->vaex-jupyter<0.9,>=0.8.2->vaex)\n",
            "  Downloading ipyvue-1.11.1-py2.py3-none-any.whl.metadata (1.1 kB)\n",
            "Collecting pythreejs>=2.4.0 (from ipyvolume>=0.4->vaex-jupyter<0.9,>=0.8.2->vaex)\n",
            "  Downloading pythreejs-2.4.2-py3-none-any.whl.metadata (5.4 kB)\n",
            "Requirement already satisfied: contourpy>=1.0.1 in /usr/local/lib/python3.10/dist-packages (from matplotlib>=1.3.1->vaex-viz<0.6,>=0.5.4->vaex) (1.3.0)\n",
            "Requirement already satisfied: cycler>=0.10 in /usr/local/lib/python3.10/dist-packages (from matplotlib>=1.3.1->vaex-viz<0.6,>=0.5.4->vaex) (0.12.1)\n",
            "Requirement already satisfied: fonttools>=4.22.0 in /usr/local/lib/python3.10/dist-packages (from matplotlib>=1.3.1->vaex-viz<0.6,>=0.5.4->vaex) (4.54.1)\n",
            "Requirement already satisfied: kiwisolver>=1.0.1 in /usr/local/lib/python3.10/dist-packages (from matplotlib>=1.3.1->vaex-viz<0.6,>=0.5.4->vaex) (1.4.7)\n",
            "Requirement already satisfied: pyparsing>=2.3.1 in /usr/local/lib/python3.10/dist-packages (from matplotlib>=1.3.1->vaex-viz<0.6,>=0.5.4->vaex) (3.1.4)\n",
            "Requirement already satisfied: python-dateutil>=2.7 in /usr/local/lib/python3.10/dist-packages (from matplotlib>=1.3.1->vaex-viz<0.6,>=0.5.4->vaex) (2.8.2)\n",
            "Requirement already satisfied: pytz>=2020.1 in /usr/local/lib/python3.10/dist-packages (from pandas->vaex-core~=4.17.1->vaex) (2024.2)\n",
            "Requirement already satisfied: tzdata>=2022.7 in /usr/local/lib/python3.10/dist-packages (from pandas->vaex-core~=4.17.1->vaex) (2024.2)\n",
            "Requirement already satisfied: annotated-types>=0.6.0 in /usr/local/lib/python3.10/dist-packages (from pydantic>=1.8.0->vaex-core~=4.17.1->vaex) (0.7.0)\n",
            "Requirement already satisfied: pydantic-core==2.23.4 in /usr/local/lib/python3.10/dist-packages (from pydantic>=1.8.0->vaex-core~=4.17.1->vaex) (2.23.4)\n",
            "Requirement already satisfied: typing-extensions>=4.6.1 in /usr/local/lib/python3.10/dist-packages (from pydantic>=1.8.0->vaex-core~=4.17.1->vaex) (4.12.2)\n",
            "Requirement already satisfied: pyerfa>=2.0.1.1 in /usr/local/lib/python3.10/dist-packages (from astropy->vaex-astro<0.10,>=0.9.3->vaex) (2.0.1.4)\n",
            "Requirement already satisfied: astropy-iers-data>=0.2024.8.27.10.28.29 in /usr/local/lib/python3.10/dist-packages (from astropy->vaex-astro<0.10,>=0.9.3->vaex) (0.2024.10.7.0.32.46)\n",
            "Collecting starlette<0.41.0,>=0.37.2 (from fastapi->vaex-server~=0.9.0->vaex)\n",
            "  Downloading starlette-0.40.0-py3-none-any.whl.metadata (6.0 kB)\n",
            "Requirement already satisfied: branca>=0.5.0 in /usr/local/lib/python3.10/dist-packages (from ipyleaflet->vaex-jupyter<0.9,>=0.8.2->vaex) (0.8.0)\n",
            "Requirement already satisfied: jupyter-leaflet<0.20,>=0.19 in /usr/local/lib/python3.10/dist-packages (from ipyleaflet->vaex-jupyter<0.9,>=0.8.2->vaex) (0.19.2)\n",
            "Requirement already satisfied: xyzservices>=2021.8.1 in /usr/local/lib/python3.10/dist-packages (from ipyleaflet->vaex-jupyter<0.9,>=0.8.2->vaex) (2024.9.0)\n",
            "Requirement already satisfied: ipython-genutils in /usr/local/lib/python3.10/dist-packages (from ipympl->vaex-jupyter<0.9,>=0.8.2->vaex) (0.2.0)\n",
            "Requirement already satisfied: ipython<9 in /usr/local/lib/python3.10/dist-packages (from ipympl->vaex-jupyter<0.9,>=0.8.2->vaex) (7.34.0)\n",
            "Requirement already satisfied: MarkupSafe>=2.0 in /usr/local/lib/python3.10/dist-packages (from jinja2->vaex-ml<0.19,>=0.18.3->vaex) (3.0.1)\n",
            "Requirement already satisfied: llvmlite<0.44,>=0.43.0dev0 in /usr/local/lib/python3.10/dist-packages (from numba->vaex-ml<0.19,>=0.18.3->vaex) (0.43.0)\n",
            "Requirement already satisfied: python-utils>=3.8.1 in /usr/local/lib/python3.10/dist-packages (from progressbar2->vaex-core~=4.17.1->vaex) (3.9.0)\n",
            "Requirement already satisfied: charset-normalizer<4,>=2 in /usr/local/lib/python3.10/dist-packages (from requests->vaex-core~=4.17.1->vaex) (3.4.0)\n",
            "Requirement already satisfied: idna<4,>=2.5 in /usr/local/lib/python3.10/dist-packages (from requests->vaex-core~=4.17.1->vaex) (3.10)\n",
            "Requirement already satisfied: urllib3<3,>=1.21.1 in /usr/local/lib/python3.10/dist-packages (from requests->vaex-core~=4.17.1->vaex) (2.2.3)\n",
            "Requirement already satisfied: certifi>=2017.4.17 in /usr/local/lib/python3.10/dist-packages (from requests->vaex-core~=4.17.1->vaex) (2024.8.30)\n",
            "Requirement already satisfied: markdown-it-py>=2.2.0 in /usr/local/lib/python3.10/dist-packages (from rich->vaex-core~=4.17.1->vaex) (3.0.0)\n",
            "Requirement already satisfied: pygments<3.0.0,>=2.13.0 in /usr/local/lib/python3.10/dist-packages (from rich->vaex-core~=4.17.1->vaex) (2.18.0)\n",
            "Collecting h11>=0.8 (from uvicorn[standard]->vaex-server~=0.9.0->vaex)\n",
            "  Downloading h11-0.14.0-py3-none-any.whl.metadata (8.2 kB)\n",
            "Collecting httptools>=0.5.0 (from uvicorn[standard]->vaex-server~=0.9.0->vaex)\n",
            "  Downloading httptools-0.6.4-cp310-cp310-manylinux_2_5_x86_64.manylinux1_x86_64.manylinux_2_17_x86_64.manylinux2014_x86_64.whl.metadata (3.6 kB)\n",
            "Collecting python-dotenv>=0.13 (from uvicorn[standard]->vaex-server~=0.9.0->vaex)\n",
            "  Downloading python_dotenv-1.0.1-py3-none-any.whl.metadata (23 kB)\n",
            "Collecting uvloop!=0.15.0,!=0.15.1,>=0.14.0 (from uvicorn[standard]->vaex-server~=0.9.0->vaex)\n",
            "  Downloading uvloop-0.21.0-cp310-cp310-manylinux_2_17_x86_64.manylinux2014_x86_64.whl.metadata (4.9 kB)\n",
            "Collecting watchfiles>=0.13 (from uvicorn[standard]->vaex-server~=0.9.0->vaex)\n",
            "  Downloading watchfiles-0.24.0-cp310-cp310-manylinux_2_17_x86_64.manylinux2014_x86_64.whl.metadata (4.9 kB)\n",
            "Collecting websockets>=10.4 (from uvicorn[standard]->vaex-server~=0.9.0->vaex)\n",
            "  Downloading websockets-13.1-cp310-cp310-manylinux_2_5_x86_64.manylinux1_x86_64.manylinux_2_17_x86_64.manylinux2014_x86_64.whl.metadata (6.8 kB)\n",
            "Requirement already satisfied: zipp>=3.20 in /usr/local/lib/python3.10/dist-packages (from importlib-metadata>=4.13.0->dask!=2022.4.0->vaex-core~=4.17.1->vaex) (3.20.2)\n",
            "Requirement already satisfied: setuptools>=18.5 in /usr/local/lib/python3.10/dist-packages (from ipython<9->ipympl->vaex-jupyter<0.9,>=0.8.2->vaex) (71.0.4)\n",
            "Collecting jedi>=0.16 (from ipython<9->ipympl->vaex-jupyter<0.9,>=0.8.2->vaex)\n",
            "  Downloading jedi-0.19.1-py2.py3-none-any.whl.metadata (22 kB)\n",
            "Requirement already satisfied: decorator in /usr/local/lib/python3.10/dist-packages (from ipython<9->ipympl->vaex-jupyter<0.9,>=0.8.2->vaex) (4.4.2)\n",
            "Requirement already satisfied: pickleshare in /usr/local/lib/python3.10/dist-packages (from ipython<9->ipympl->vaex-jupyter<0.9,>=0.8.2->vaex) (0.7.5)\n",
            "Requirement already satisfied: prompt-toolkit!=3.0.0,!=3.0.1,<3.1.0,>=2.0.0 in /usr/local/lib/python3.10/dist-packages (from ipython<9->ipympl->vaex-jupyter<0.9,>=0.8.2->vaex) (3.0.48)\n",
            "Requirement already satisfied: backcall in /usr/local/lib/python3.10/dist-packages (from ipython<9->ipympl->vaex-jupyter<0.9,>=0.8.2->vaex) (0.2.0)\n",
            "Requirement already satisfied: matplotlib-inline in /usr/local/lib/python3.10/dist-packages (from ipython<9->ipympl->vaex-jupyter<0.9,>=0.8.2->vaex) (0.1.7)\n",
            "Requirement already satisfied: pexpect>4.3 in /usr/local/lib/python3.10/dist-packages (from ipython<9->ipympl->vaex-jupyter<0.9,>=0.8.2->vaex) (4.9.0)\n",
            "Requirement already satisfied: ipykernel>=4.5.1 in /usr/local/lib/python3.10/dist-packages (from ipywidgets<9,>=7.5.0->bqplot>=0.10.1->vaex-jupyter<0.9,>=0.8.2->vaex) (5.5.6)\n",
            "Requirement already satisfied: widgetsnbextension~=3.6.0 in /usr/local/lib/python3.10/dist-packages (from ipywidgets<9,>=7.5.0->bqplot>=0.10.1->vaex-jupyter<0.9,>=0.8.2->vaex) (3.6.9)\n",
            "Requirement already satisfied: jupyterlab-widgets>=1.0.0 in /usr/local/lib/python3.10/dist-packages (from ipywidgets<9,>=7.5.0->bqplot>=0.10.1->vaex-jupyter<0.9,>=0.8.2->vaex) (3.0.13)\n",
            "Requirement already satisfied: mdurl~=0.1 in /usr/local/lib/python3.10/dist-packages (from markdown-it-py>=2.2.0->rich->vaex-core~=4.17.1->vaex) (0.1.2)\n",
            "Requirement already satisfied: locket in /usr/local/lib/python3.10/dist-packages (from partd>=1.4.0->dask!=2022.4.0->vaex-core~=4.17.1->vaex) (1.0.0)\n",
            "Collecting ipydatawidgets>=1.1.1 (from pythreejs>=2.4.0->ipyvolume>=0.4->vaex-jupyter<0.9,>=0.8.2->vaex)\n",
            "  Downloading ipydatawidgets-4.3.5-py2.py3-none-any.whl.metadata (1.4 kB)\n",
            "Requirement already satisfied: anyio<5,>=3.4.0 in /usr/local/lib/python3.10/dist-packages (from starlette<0.41.0,>=0.37.2->fastapi->vaex-server~=0.9.0->vaex) (3.7.1)\n",
            "Requirement already satisfied: sniffio>=1.1 in /usr/local/lib/python3.10/dist-packages (from anyio<5,>=3.4.0->starlette<0.41.0,>=0.37.2->fastapi->vaex-server~=0.9.0->vaex) (1.3.1)\n",
            "Requirement already satisfied: exceptiongroup in /usr/local/lib/python3.10/dist-packages (from anyio<5,>=3.4.0->starlette<0.41.0,>=0.37.2->fastapi->vaex-server~=0.9.0->vaex) (1.2.2)\n",
            "Requirement already satisfied: jupyter-client in /usr/local/lib/python3.10/dist-packages (from ipykernel>=4.5.1->ipywidgets<9,>=7.5.0->bqplot>=0.10.1->vaex-jupyter<0.9,>=0.8.2->vaex) (6.1.12)\n",
            "Requirement already satisfied: parso<0.9.0,>=0.8.3 in /usr/local/lib/python3.10/dist-packages (from jedi>=0.16->ipython<9->ipympl->vaex-jupyter<0.9,>=0.8.2->vaex) (0.8.4)\n",
            "Requirement already satisfied: ptyprocess>=0.5 in /usr/local/lib/python3.10/dist-packages (from pexpect>4.3->ipython<9->ipympl->vaex-jupyter<0.9,>=0.8.2->vaex) (0.7.0)\n",
            "Requirement already satisfied: wcwidth in /usr/local/lib/python3.10/dist-packages (from prompt-toolkit!=3.0.0,!=3.0.1,<3.1.0,>=2.0.0->ipython<9->ipympl->vaex-jupyter<0.9,>=0.8.2->vaex) (0.2.13)\n",
            "Requirement already satisfied: notebook>=4.4.1 in /usr/local/lib/python3.10/dist-packages (from widgetsnbextension~=3.6.0->ipywidgets<9,>=7.5.0->bqplot>=0.10.1->vaex-jupyter<0.9,>=0.8.2->vaex) (6.5.5)\n",
            "Requirement already satisfied: pyzmq<25,>=17 in /usr/local/lib/python3.10/dist-packages (from notebook>=4.4.1->widgetsnbextension~=3.6.0->ipywidgets<9,>=7.5.0->bqplot>=0.10.1->vaex-jupyter<0.9,>=0.8.2->vaex) (24.0.1)\n",
            "Requirement already satisfied: argon2-cffi in /usr/local/lib/python3.10/dist-packages (from notebook>=4.4.1->widgetsnbextension~=3.6.0->ipywidgets<9,>=7.5.0->bqplot>=0.10.1->vaex-jupyter<0.9,>=0.8.2->vaex) (23.1.0)\n",
            "Requirement already satisfied: jupyter-core>=4.6.1 in /usr/local/lib/python3.10/dist-packages (from notebook>=4.4.1->widgetsnbextension~=3.6.0->ipywidgets<9,>=7.5.0->bqplot>=0.10.1->vaex-jupyter<0.9,>=0.8.2->vaex) (5.7.2)\n",
            "Requirement already satisfied: nbformat in /usr/local/lib/python3.10/dist-packages (from notebook>=4.4.1->widgetsnbextension~=3.6.0->ipywidgets<9,>=7.5.0->bqplot>=0.10.1->vaex-jupyter<0.9,>=0.8.2->vaex) (5.10.4)\n",
            "Requirement already satisfied: nbconvert>=5 in /usr/local/lib/python3.10/dist-packages (from notebook>=4.4.1->widgetsnbextension~=3.6.0->ipywidgets<9,>=7.5.0->bqplot>=0.10.1->vaex-jupyter<0.9,>=0.8.2->vaex) (6.5.4)\n",
            "Requirement already satisfied: Send2Trash>=1.8.0 in /usr/local/lib/python3.10/dist-packages (from notebook>=4.4.1->widgetsnbextension~=3.6.0->ipywidgets<9,>=7.5.0->bqplot>=0.10.1->vaex-jupyter<0.9,>=0.8.2->vaex) (1.8.3)\n",
            "Requirement already satisfied: terminado>=0.8.3 in /usr/local/lib/python3.10/dist-packages (from notebook>=4.4.1->widgetsnbextension~=3.6.0->ipywidgets<9,>=7.5.0->bqplot>=0.10.1->vaex-jupyter<0.9,>=0.8.2->vaex) (0.18.1)\n",
            "Requirement already satisfied: prometheus-client in /usr/local/lib/python3.10/dist-packages (from notebook>=4.4.1->widgetsnbextension~=3.6.0->ipywidgets<9,>=7.5.0->bqplot>=0.10.1->vaex-jupyter<0.9,>=0.8.2->vaex) (0.21.0)\n",
            "Requirement already satisfied: nbclassic>=0.4.7 in /usr/local/lib/python3.10/dist-packages (from notebook>=4.4.1->widgetsnbextension~=3.6.0->ipywidgets<9,>=7.5.0->bqplot>=0.10.1->vaex-jupyter<0.9,>=0.8.2->vaex) (1.1.0)\n",
            "Requirement already satisfied: platformdirs>=2.5 in /usr/local/lib/python3.10/dist-packages (from jupyter-core>=4.6.1->notebook>=4.4.1->widgetsnbextension~=3.6.0->ipywidgets<9,>=7.5.0->bqplot>=0.10.1->vaex-jupyter<0.9,>=0.8.2->vaex) (4.3.6)\n",
            "Requirement already satisfied: notebook-shim>=0.2.3 in /usr/local/lib/python3.10/dist-packages (from nbclassic>=0.4.7->notebook>=4.4.1->widgetsnbextension~=3.6.0->ipywidgets<9,>=7.5.0->bqplot>=0.10.1->vaex-jupyter<0.9,>=0.8.2->vaex) (0.2.4)\n",
            "Requirement already satisfied: lxml in /usr/local/lib/python3.10/dist-packages (from nbconvert>=5->notebook>=4.4.1->widgetsnbextension~=3.6.0->ipywidgets<9,>=7.5.0->bqplot>=0.10.1->vaex-jupyter<0.9,>=0.8.2->vaex) (4.9.4)\n",
            "Requirement already satisfied: beautifulsoup4 in /usr/local/lib/python3.10/dist-packages (from nbconvert>=5->notebook>=4.4.1->widgetsnbextension~=3.6.0->ipywidgets<9,>=7.5.0->bqplot>=0.10.1->vaex-jupyter<0.9,>=0.8.2->vaex) (4.12.3)\n",
            "Requirement already satisfied: bleach in /usr/local/lib/python3.10/dist-packages (from nbconvert>=5->notebook>=4.4.1->widgetsnbextension~=3.6.0->ipywidgets<9,>=7.5.0->bqplot>=0.10.1->vaex-jupyter<0.9,>=0.8.2->vaex) (6.1.0)\n",
            "Requirement already satisfied: defusedxml in /usr/local/lib/python3.10/dist-packages (from nbconvert>=5->notebook>=4.4.1->widgetsnbextension~=3.6.0->ipywidgets<9,>=7.5.0->bqplot>=0.10.1->vaex-jupyter<0.9,>=0.8.2->vaex) (0.7.1)\n",
            "Requirement already satisfied: entrypoints>=0.2.2 in /usr/local/lib/python3.10/dist-packages (from nbconvert>=5->notebook>=4.4.1->widgetsnbextension~=3.6.0->ipywidgets<9,>=7.5.0->bqplot>=0.10.1->vaex-jupyter<0.9,>=0.8.2->vaex) (0.4)\n",
            "Requirement already satisfied: jupyterlab-pygments in /usr/local/lib/python3.10/dist-packages (from nbconvert>=5->notebook>=4.4.1->widgetsnbextension~=3.6.0->ipywidgets<9,>=7.5.0->bqplot>=0.10.1->vaex-jupyter<0.9,>=0.8.2->vaex) (0.3.0)\n",
            "Requirement already satisfied: mistune<2,>=0.8.1 in /usr/local/lib/python3.10/dist-packages (from nbconvert>=5->notebook>=4.4.1->widgetsnbextension~=3.6.0->ipywidgets<9,>=7.5.0->bqplot>=0.10.1->vaex-jupyter<0.9,>=0.8.2->vaex) (0.8.4)\n",
            "Requirement already satisfied: nbclient>=0.5.0 in /usr/local/lib/python3.10/dist-packages (from nbconvert>=5->notebook>=4.4.1->widgetsnbextension~=3.6.0->ipywidgets<9,>=7.5.0->bqplot>=0.10.1->vaex-jupyter<0.9,>=0.8.2->vaex) (0.10.0)\n",
            "Requirement already satisfied: pandocfilters>=1.4.1 in /usr/local/lib/python3.10/dist-packages (from nbconvert>=5->notebook>=4.4.1->widgetsnbextension~=3.6.0->ipywidgets<9,>=7.5.0->bqplot>=0.10.1->vaex-jupyter<0.9,>=0.8.2->vaex) (1.5.1)\n",
            "Requirement already satisfied: tinycss2 in /usr/local/lib/python3.10/dist-packages (from nbconvert>=5->notebook>=4.4.1->widgetsnbextension~=3.6.0->ipywidgets<9,>=7.5.0->bqplot>=0.10.1->vaex-jupyter<0.9,>=0.8.2->vaex) (1.3.0)\n",
            "Requirement already satisfied: fastjsonschema>=2.15 in /usr/local/lib/python3.10/dist-packages (from nbformat->notebook>=4.4.1->widgetsnbextension~=3.6.0->ipywidgets<9,>=7.5.0->bqplot>=0.10.1->vaex-jupyter<0.9,>=0.8.2->vaex) (2.20.0)\n",
            "Requirement already satisfied: jsonschema>=2.6 in /usr/local/lib/python3.10/dist-packages (from nbformat->notebook>=4.4.1->widgetsnbextension~=3.6.0->ipywidgets<9,>=7.5.0->bqplot>=0.10.1->vaex-jupyter<0.9,>=0.8.2->vaex) (4.23.0)\n",
            "Requirement already satisfied: argon2-cffi-bindings in /usr/local/lib/python3.10/dist-packages (from argon2-cffi->notebook>=4.4.1->widgetsnbextension~=3.6.0->ipywidgets<9,>=7.5.0->bqplot>=0.10.1->vaex-jupyter<0.9,>=0.8.2->vaex) (21.2.0)\n",
            "Requirement already satisfied: attrs>=22.2.0 in /usr/local/lib/python3.10/dist-packages (from jsonschema>=2.6->nbformat->notebook>=4.4.1->widgetsnbextension~=3.6.0->ipywidgets<9,>=7.5.0->bqplot>=0.10.1->vaex-jupyter<0.9,>=0.8.2->vaex) (24.2.0)\n",
            "Requirement already satisfied: jsonschema-specifications>=2023.03.6 in /usr/local/lib/python3.10/dist-packages (from jsonschema>=2.6->nbformat->notebook>=4.4.1->widgetsnbextension~=3.6.0->ipywidgets<9,>=7.5.0->bqplot>=0.10.1->vaex-jupyter<0.9,>=0.8.2->vaex) (2024.10.1)\n",
            "Requirement already satisfied: referencing>=0.28.4 in /usr/local/lib/python3.10/dist-packages (from jsonschema>=2.6->nbformat->notebook>=4.4.1->widgetsnbextension~=3.6.0->ipywidgets<9,>=7.5.0->bqplot>=0.10.1->vaex-jupyter<0.9,>=0.8.2->vaex) (0.35.1)\n",
            "Requirement already satisfied: rpds-py>=0.7.1 in /usr/local/lib/python3.10/dist-packages (from jsonschema>=2.6->nbformat->notebook>=4.4.1->widgetsnbextension~=3.6.0->ipywidgets<9,>=7.5.0->bqplot>=0.10.1->vaex-jupyter<0.9,>=0.8.2->vaex) (0.20.0)\n",
            "Requirement already satisfied: jupyter-server<3,>=1.8 in /usr/local/lib/python3.10/dist-packages (from notebook-shim>=0.2.3->nbclassic>=0.4.7->notebook>=4.4.1->widgetsnbextension~=3.6.0->ipywidgets<9,>=7.5.0->bqplot>=0.10.1->vaex-jupyter<0.9,>=0.8.2->vaex) (1.24.0)\n",
            "Requirement already satisfied: cffi>=1.0.1 in /usr/local/lib/python3.10/dist-packages (from argon2-cffi-bindings->argon2-cffi->notebook>=4.4.1->widgetsnbextension~=3.6.0->ipywidgets<9,>=7.5.0->bqplot>=0.10.1->vaex-jupyter<0.9,>=0.8.2->vaex) (1.17.1)\n",
            "Requirement already satisfied: soupsieve>1.2 in /usr/local/lib/python3.10/dist-packages (from beautifulsoup4->nbconvert>=5->notebook>=4.4.1->widgetsnbextension~=3.6.0->ipywidgets<9,>=7.5.0->bqplot>=0.10.1->vaex-jupyter<0.9,>=0.8.2->vaex) (2.6)\n",
            "Requirement already satisfied: webencodings in /usr/local/lib/python3.10/dist-packages (from bleach->nbconvert>=5->notebook>=4.4.1->widgetsnbextension~=3.6.0->ipywidgets<9,>=7.5.0->bqplot>=0.10.1->vaex-jupyter<0.9,>=0.8.2->vaex) (0.5.1)\n",
            "Requirement already satisfied: pycparser in /usr/local/lib/python3.10/dist-packages (from cffi>=1.0.1->argon2-cffi-bindings->argon2-cffi->notebook>=4.4.1->widgetsnbextension~=3.6.0->ipywidgets<9,>=7.5.0->bqplot>=0.10.1->vaex-jupyter<0.9,>=0.8.2->vaex) (2.22)\n",
            "Requirement already satisfied: websocket-client in /usr/local/lib/python3.10/dist-packages (from jupyter-server<3,>=1.8->notebook-shim>=0.2.3->nbclassic>=0.4.7->notebook>=4.4.1->widgetsnbextension~=3.6.0->ipywidgets<9,>=7.5.0->bqplot>=0.10.1->vaex-jupyter<0.9,>=0.8.2->vaex) (1.8.0)\n",
            "Downloading vaex-4.17.0-py3-none-any.whl (4.8 kB)\n",
            "Downloading vaex_astro-0.9.3-py3-none-any.whl (20 kB)\n",
            "Downloading vaex_core-4.17.1-cp310-cp310-manylinux_2_17_x86_64.manylinux2014_x86_64.whl (4.5 MB)\n",
            "\u001b[2K   \u001b[90m━━━━━━━━━━━━━━━━━━━━━━━━━━━━━━━━━━━━━━━━\u001b[0m \u001b[32m4.5/4.5 MB\u001b[0m \u001b[31m4.2 MB/s\u001b[0m eta \u001b[36m0:00:00\u001b[0m\n",
            "\u001b[?25hDownloading vaex_hdf5-0.14.1-py3-none-any.whl (16 kB)\n",
            "Downloading vaex_jupyter-0.8.2-py3-none-any.whl (43 kB)\n",
            "\u001b[2K   \u001b[90m━━━━━━━━━━━━━━━━━━━━━━━━━━━━━━━━━━━━━━━━\u001b[0m \u001b[32m43.2/43.2 kB\u001b[0m \u001b[31m2.4 MB/s\u001b[0m eta \u001b[36m0:00:00\u001b[0m\n",
            "\u001b[?25hDownloading vaex_ml-0.18.3-py3-none-any.whl (58 kB)\n",
            "\u001b[2K   \u001b[90m━━━━━━━━━━━━━━━━━━━━━━━━━━━━━━━━━━━━━━━━\u001b[0m \u001b[32m58.2/58.2 kB\u001b[0m \u001b[31m2.9 MB/s\u001b[0m eta \u001b[36m0:00:00\u001b[0m\n",
            "\u001b[?25hDownloading vaex_server-0.9.0-py3-none-any.whl (23 kB)\n",
            "Downloading vaex_viz-0.5.4-py3-none-any.whl (19 kB)\n",
            "Downloading ipyvolume-0.6.3-py3-none-any.whl (1.6 MB)\n",
            "\u001b[2K   \u001b[90m━━━━━━━━━━━━━━━━━━━━━━━━━━━━━━━━━━━━━━━━\u001b[0m \u001b[32m1.6/1.6 MB\u001b[0m \u001b[31m39.3 MB/s\u001b[0m eta \u001b[36m0:00:00\u001b[0m\n",
            "\u001b[?25hDownloading ipyvuetify-1.10.0-py2.py3-none-any.whl (6.1 MB)\n",
            "\u001b[2K   \u001b[90m━━━━━━━━━━━━━━━━━━━━━━━━━━━━━━━━━━━━━━━━\u001b[0m \u001b[32m6.1/6.1 MB\u001b[0m \u001b[31m43.3 MB/s\u001b[0m eta \u001b[36m0:00:00\u001b[0m\n",
            "\u001b[?25hDownloading blake3-0.4.1-cp310-cp310-manylinux_2_17_x86_64.manylinux2014_x86_64.whl (1.3 MB)\n",
            "\u001b[2K   \u001b[90m━━━━━━━━━━━━━━━━━━━━━━━━━━━━━━━━━━━━━━━━\u001b[0m \u001b[32m1.3/1.3 MB\u001b[0m \u001b[31m33.7 MB/s\u001b[0m eta \u001b[36m0:00:00\u001b[0m\n",
            "\u001b[?25hDownloading fastapi-0.115.2-py3-none-any.whl (94 kB)\n",
            "\u001b[2K   \u001b[90m━━━━━━━━━━━━━━━━━━━━━━━━━━━━━━━━━━━━━━━━\u001b[0m \u001b[32m94.7/94.7 kB\u001b[0m \u001b[31m7.0 MB/s\u001b[0m eta \u001b[36m0:00:00\u001b[0m\n",
            "\u001b[?25hDownloading ipympl-0.9.4-py3-none-any.whl (516 kB)\n",
            "\u001b[2K   \u001b[90m━━━━━━━━━━━━━━━━━━━━━━━━━━━━━━━━━━━━━━━━\u001b[0m \u001b[32m516.3/516.3 kB\u001b[0m \u001b[31m26.0 MB/s\u001b[0m eta \u001b[36m0:00:00\u001b[0m\n",
            "\u001b[?25hDownloading h11-0.14.0-py3-none-any.whl (58 kB)\n",
            "\u001b[2K   \u001b[90m━━━━━━━━━━━━━━━━━━━━━━━━━━━━━━━━━━━━━━━━\u001b[0m \u001b[32m58.3/58.3 kB\u001b[0m \u001b[31m4.1 MB/s\u001b[0m eta \u001b[36m0:00:00\u001b[0m\n",
            "\u001b[?25hDownloading httptools-0.6.4-cp310-cp310-manylinux_2_5_x86_64.manylinux1_x86_64.manylinux_2_17_x86_64.manylinux2014_x86_64.whl (442 kB)\n",
            "\u001b[2K   \u001b[90m━━━━━━━━━━━━━━━━━━━━━━━━━━━━━━━━━━━━━━━━\u001b[0m \u001b[32m442.1/442.1 kB\u001b[0m \u001b[31m19.0 MB/s\u001b[0m eta \u001b[36m0:00:00\u001b[0m\n",
            "\u001b[?25hDownloading ipyvue-1.11.1-py2.py3-none-any.whl (2.7 MB)\n",
            "\u001b[2K   \u001b[90m━━━━━━━━━━━━━━━━━━━━━━━━━━━━━━━━━━━━━━━━\u001b[0m \u001b[32m2.7/2.7 MB\u001b[0m \u001b[31m42.2 MB/s\u001b[0m eta \u001b[36m0:00:00\u001b[0m\n",
            "\u001b[?25hDownloading python_dotenv-1.0.1-py3-none-any.whl (19 kB)\n",
            "Downloading pythreejs-2.4.2-py3-none-any.whl (3.4 MB)\n",
            "\u001b[2K   \u001b[90m━━━━━━━━━━━━━━━━━━━━━━━━━━━━━━━━━━━━━━━━\u001b[0m \u001b[32m3.4/3.4 MB\u001b[0m \u001b[31m53.7 MB/s\u001b[0m eta \u001b[36m0:00:00\u001b[0m\n",
            "\u001b[?25hDownloading starlette-0.40.0-py3-none-any.whl (73 kB)\n",
            "\u001b[2K   \u001b[90m━━━━━━━━━━━━━━━━━━━━━━━━━━━━━━━━━━━━━━━━\u001b[0m \u001b[32m73.3/73.3 kB\u001b[0m \u001b[31m4.9 MB/s\u001b[0m eta \u001b[36m0:00:00\u001b[0m\n",
            "\u001b[?25hDownloading uvloop-0.21.0-cp310-cp310-manylinux_2_17_x86_64.manylinux2014_x86_64.whl (3.8 MB)\n",
            "\u001b[2K   \u001b[90m━━━━━━━━━━━━━━━━━━━━━━━━━━━━━━━━━━━━━━━━\u001b[0m \u001b[32m3.8/3.8 MB\u001b[0m \u001b[31m47.4 MB/s\u001b[0m eta \u001b[36m0:00:00\u001b[0m\n",
            "\u001b[?25hDownloading watchfiles-0.24.0-cp310-cp310-manylinux_2_17_x86_64.manylinux2014_x86_64.whl (425 kB)\n",
            "\u001b[2K   \u001b[90m━━━━━━━━━━━━━━━━━━━━━━━━━━━━━━━━━━━━━━━━\u001b[0m \u001b[32m425.7/425.7 kB\u001b[0m \u001b[31m20.9 MB/s\u001b[0m eta \u001b[36m0:00:00\u001b[0m\n",
            "\u001b[?25hDownloading websockets-13.1-cp310-cp310-manylinux_2_5_x86_64.manylinux1_x86_64.manylinux_2_17_x86_64.manylinux2014_x86_64.whl (164 kB)\n",
            "\u001b[2K   \u001b[90m━━━━━━━━━━━━━━━━━━━━━━━━━━━━━━━━━━━━━━━━\u001b[0m \u001b[32m164.1/164.1 kB\u001b[0m \u001b[31m11.6 MB/s\u001b[0m eta \u001b[36m0:00:00\u001b[0m\n",
            "\u001b[?25hDownloading ipywebrtc-0.6.0-py2.py3-none-any.whl (260 kB)\n",
            "\u001b[2K   \u001b[90m━━━━━━━━━━━━━━━━━━━━━━━━━━━━━━━━━━━━━━━━\u001b[0m \u001b[32m260.7/260.7 kB\u001b[0m \u001b[31m17.7 MB/s\u001b[0m eta \u001b[36m0:00:00\u001b[0m\n",
            "\u001b[?25hDownloading uvicorn-0.32.0-py3-none-any.whl (63 kB)\n",
            "\u001b[2K   \u001b[90m━━━━━━━━━━━━━━━━━━━━━━━━━━━━━━━━━━━━━━━━\u001b[0m \u001b[32m63.7/63.7 kB\u001b[0m \u001b[31m5.3 MB/s\u001b[0m eta \u001b[36m0:00:00\u001b[0m\n",
            "\u001b[?25hDownloading ipydatawidgets-4.3.5-py2.py3-none-any.whl (271 kB)\n",
            "\u001b[2K   \u001b[90m━━━━━━━━━━━━━━━━━━━━━━━━━━━━━━━━━━━━━━━━\u001b[0m \u001b[32m271.7/271.7 kB\u001b[0m \u001b[31m17.2 MB/s\u001b[0m eta \u001b[36m0:00:00\u001b[0m\n",
            "\u001b[?25hDownloading jedi-0.19.1-py2.py3-none-any.whl (1.6 MB)\n",
            "\u001b[2K   \u001b[90m━━━━━━━━━━━━━━━━━━━━━━━━━━━━━━━━━━━━━━━━\u001b[0m \u001b[32m1.6/1.6 MB\u001b[0m \u001b[31m48.3 MB/s\u001b[0m eta \u001b[36m0:00:00\u001b[0m\n",
            "\u001b[?25hBuilding wheels for collected packages: aplus\n",
            "  Building wheel for aplus (setup.py) ... \u001b[?25l\u001b[?25hdone\n",
            "  Created wheel for aplus: filename=aplus-0.11.0-py3-none-any.whl size=4366 sha256=125e4e62aaa4fdbaacbb2fe790445f2a73d7e7e49e6c3a64575d30eeff2bc29f\n",
            "  Stored in directory: /root/.cache/pip/wheels/74/ed/14/4d7bffd9475a07582e0c256b9b1ddbbc1f49c58e3150d356f4\n",
            "Successfully built aplus\n",
            "Installing collected packages: ipywebrtc, blake3, aplus, websockets, uvloop, python-dotenv, jedi, httptools, h11, watchfiles, uvicorn, starlette, vaex-core, fastapi, vaex-viz, vaex-server, vaex-ml, vaex-hdf5, vaex-astro, ipyvue, ipympl, ipydatawidgets, pythreejs, ipyvuetify, ipyvolume, vaex-jupyter, vaex\n",
            "Successfully installed aplus-0.11.0 blake3-0.4.1 fastapi-0.115.2 h11-0.14.0 httptools-0.6.4 ipydatawidgets-4.3.5 ipympl-0.9.4 ipyvolume-0.6.3 ipyvue-1.11.1 ipyvuetify-1.10.0 ipywebrtc-0.6.0 jedi-0.19.1 python-dotenv-1.0.1 pythreejs-2.4.2 starlette-0.40.0 uvicorn-0.32.0 uvloop-0.21.0 vaex-4.17.0 vaex-astro-0.9.3 vaex-core-4.17.1 vaex-hdf5-0.14.1 vaex-jupyter-0.8.2 vaex-ml-0.18.3 vaex-server-0.9.0 vaex-viz-0.5.4 watchfiles-0.24.0 websockets-13.1\n"
          ]
        }
      ],
      "source": [
        "!pip install vaex"
      ]
    },
    {
      "cell_type": "code",
      "source": [
        "import vaex"
      ],
      "metadata": {
        "id": "pBL7kdUXtJWb"
      },
      "execution_count": 2,
      "outputs": []
    },
    {
      "cell_type": "code",
      "source": [
        "import pandas as pd"
      ],
      "metadata": {
        "id": "W08tPZMWtTD-"
      },
      "execution_count": 3,
      "outputs": []
    },
    {
      "cell_type": "code",
      "source": [
        "df=pd.read_csv('/content/Fraud.csv')"
      ],
      "metadata": {
        "id": "hj-Uhg7PtXZK"
      },
      "execution_count": 4,
      "outputs": []
    },
    {
      "cell_type": "code",
      "source": [
        "vaex_df=vaex.from_pandas(df)"
      ],
      "metadata": {
        "id": "ANCvSs8HttO3"
      },
      "execution_count": 5,
      "outputs": []
    },
    {
      "cell_type": "code",
      "source": [
        "type(vaex_df)"
      ],
      "metadata": {
        "colab": {
          "base_uri": "https://localhost:8080/",
          "height": 121
        },
        "id": "KO2rlf7Yt5cI",
        "outputId": "202db44d-ffb9-44ea-821f-23354395dfdf"
      },
      "execution_count": 6,
      "outputs": [
        {
          "output_type": "execute_result",
          "data": {
            "text/plain": [
              "vaex.dataframe.DataFrameLocal"
            ],
            "text/html": [
              "<div style=\"max-width:800px; border: 1px solid var(--colab-border-color);\"><style>\n",
              "      pre.function-repr-contents {\n",
              "        overflow-x: auto;\n",
              "        padding: 8px 12px;\n",
              "        max-height: 500px;\n",
              "      }\n",
              "\n",
              "      pre.function-repr-contents.function-repr-contents-collapsed {\n",
              "        cursor: pointer;\n",
              "        max-height: 100px;\n",
              "      }\n",
              "    </style>\n",
              "    <pre style=\"white-space: initial; background:\n",
              "         var(--colab-secondary-surface-color); padding: 8px 12px;\n",
              "         border-bottom: 1px solid var(--colab-border-color);\"><b>vaex.dataframe.DataFrameLocal</b><br/>def __call__(*expressions, **kwargs)</pre><pre class=\"function-repr-contents function-repr-contents-collapsed\" style=\"\"><a class=\"filepath\" style=\"display:none\" href=\"#\">/usr/local/lib/python3.10/dist-packages/vaex/dataframe.py</a>Base class for DataFrames that work with local file/data</pre>\n",
              "      <script>\n",
              "      if (google.colab.kernel.accessAllowed && google.colab.files && google.colab.files.view) {\n",
              "        for (const element of document.querySelectorAll('.filepath')) {\n",
              "          element.style.display = 'block'\n",
              "          element.onclick = (event) => {\n",
              "            event.preventDefault();\n",
              "            event.stopPropagation();\n",
              "            google.colab.files.view(element.textContent, 5703);\n",
              "          };\n",
              "        }\n",
              "      }\n",
              "      for (const element of document.querySelectorAll('.function-repr-contents')) {\n",
              "        element.onclick = (event) => {\n",
              "          event.preventDefault();\n",
              "          event.stopPropagation();\n",
              "          element.classList.toggle('function-repr-contents-collapsed');\n",
              "        };\n",
              "      }\n",
              "      </script>\n",
              "      </div>"
            ]
          },
          "metadata": {},
          "execution_count": 6
        }
      ]
    },
    {
      "cell_type": "code",
      "source": [
        "vaex_df.export_hdf5(\"Fraud.hdf5\")"
      ],
      "metadata": {
        "id": "7H-DHyKGt_4D"
      },
      "execution_count": 7,
      "outputs": []
    },
    {
      "cell_type": "code",
      "source": [
        "vaex_df=vaex.open(\"Fraud.hdf5\")"
      ],
      "metadata": {
        "id": "D4CFA_2xuPR2"
      },
      "execution_count": 8,
      "outputs": []
    },
    {
      "cell_type": "code",
      "source": [
        "vaex_df.head()"
      ],
      "metadata": {
        "colab": {
          "base_uri": "https://localhost:8080/",
          "height": 249
        },
        "id": "XT06hTy1uf3u",
        "outputId": "577fd86b-8cab-4e3f-c804-912978646bda"
      },
      "execution_count": 9,
      "outputs": [
        {
          "output_type": "execute_result",
          "data": {
            "text/html": [
              "<table>\n",
              "<thead>\n",
              "<tr><th>#                            </th><th style=\"text-align: right;\">  step</th><th>type    </th><th style=\"text-align: right;\">  amount</th><th>nameOrig   </th><th style=\"text-align: right;\">  oldbalanceOrg</th><th style=\"text-align: right;\">  newbalanceOrig</th><th>nameDest   </th><th style=\"text-align: right;\">  oldbalanceDest</th><th style=\"text-align: right;\">  newbalanceDest</th><th style=\"text-align: right;\">  isFraud</th><th style=\"text-align: right;\">  isFlaggedFraud</th></tr>\n",
              "</thead>\n",
              "<tbody>\n",
              "<tr><td><i style='opacity: 0.6'>0</i></td><td style=\"text-align: right;\">     1</td><td>PAYMENT </td><td style=\"text-align: right;\"> 9839.64</td><td>C1231006815</td><td style=\"text-align: right;\">         170136</td><td style=\"text-align: right;\">        160296  </td><td>M1979787155</td><td style=\"text-align: right;\">               0</td><td style=\"text-align: right;\">             0  </td><td style=\"text-align: right;\">        0</td><td style=\"text-align: right;\">               0</td></tr>\n",
              "<tr><td><i style='opacity: 0.6'>1</i></td><td style=\"text-align: right;\">     1</td><td>PAYMENT </td><td style=\"text-align: right;\"> 1864.28</td><td>C1666544295</td><td style=\"text-align: right;\">          21249</td><td style=\"text-align: right;\">         19384.7</td><td>M2044282225</td><td style=\"text-align: right;\">               0</td><td style=\"text-align: right;\">             0  </td><td style=\"text-align: right;\">        0</td><td style=\"text-align: right;\">               0</td></tr>\n",
              "<tr><td><i style='opacity: 0.6'>2</i></td><td style=\"text-align: right;\">     1</td><td>TRANSFER</td><td style=\"text-align: right;\">  181   </td><td>C1305486145</td><td style=\"text-align: right;\">            181</td><td style=\"text-align: right;\">             0  </td><td>C553264065 </td><td style=\"text-align: right;\">               0</td><td style=\"text-align: right;\">             0  </td><td style=\"text-align: right;\">        1</td><td style=\"text-align: right;\">               0</td></tr>\n",
              "<tr><td><i style='opacity: 0.6'>3</i></td><td style=\"text-align: right;\">     1</td><td>CASH_OUT</td><td style=\"text-align: right;\">  181   </td><td>C840083671 </td><td style=\"text-align: right;\">            181</td><td style=\"text-align: right;\">             0  </td><td>C38997010  </td><td style=\"text-align: right;\">           21182</td><td style=\"text-align: right;\">             0  </td><td style=\"text-align: right;\">        1</td><td style=\"text-align: right;\">               0</td></tr>\n",
              "<tr><td><i style='opacity: 0.6'>4</i></td><td style=\"text-align: right;\">     1</td><td>PAYMENT </td><td style=\"text-align: right;\">11668.1 </td><td>C2048537720</td><td style=\"text-align: right;\">          41554</td><td style=\"text-align: right;\">         29885.9</td><td>M1230701703</td><td style=\"text-align: right;\">               0</td><td style=\"text-align: right;\">             0  </td><td style=\"text-align: right;\">        0</td><td style=\"text-align: right;\">               0</td></tr>\n",
              "<tr><td><i style='opacity: 0.6'>5</i></td><td style=\"text-align: right;\">     1</td><td>PAYMENT </td><td style=\"text-align: right;\"> 7817.71</td><td>C90045638  </td><td style=\"text-align: right;\">          53860</td><td style=\"text-align: right;\">         46042.3</td><td>M573487274 </td><td style=\"text-align: right;\">               0</td><td style=\"text-align: right;\">             0  </td><td style=\"text-align: right;\">        0</td><td style=\"text-align: right;\">               0</td></tr>\n",
              "<tr><td><i style='opacity: 0.6'>6</i></td><td style=\"text-align: right;\">     1</td><td>PAYMENT </td><td style=\"text-align: right;\"> 7107.77</td><td>C154988899 </td><td style=\"text-align: right;\">         183195</td><td style=\"text-align: right;\">        176087  </td><td>M408069119 </td><td style=\"text-align: right;\">               0</td><td style=\"text-align: right;\">             0  </td><td style=\"text-align: right;\">        0</td><td style=\"text-align: right;\">               0</td></tr>\n",
              "<tr><td><i style='opacity: 0.6'>7</i></td><td style=\"text-align: right;\">     1</td><td>PAYMENT </td><td style=\"text-align: right;\"> 7861.64</td><td>C1912850431</td><td style=\"text-align: right;\">         176087</td><td style=\"text-align: right;\">        168226  </td><td>M633326333 </td><td style=\"text-align: right;\">               0</td><td style=\"text-align: right;\">             0  </td><td style=\"text-align: right;\">        0</td><td style=\"text-align: right;\">               0</td></tr>\n",
              "<tr><td><i style='opacity: 0.6'>8</i></td><td style=\"text-align: right;\">     1</td><td>PAYMENT </td><td style=\"text-align: right;\"> 4024.36</td><td>C1265012928</td><td style=\"text-align: right;\">           2671</td><td style=\"text-align: right;\">             0  </td><td>M1176932104</td><td style=\"text-align: right;\">               0</td><td style=\"text-align: right;\">             0  </td><td style=\"text-align: right;\">        0</td><td style=\"text-align: right;\">               0</td></tr>\n",
              "<tr><td><i style='opacity: 0.6'>9</i></td><td style=\"text-align: right;\">     1</td><td>DEBIT   </td><td style=\"text-align: right;\"> 5337.77</td><td>C712410124 </td><td style=\"text-align: right;\">          41720</td><td style=\"text-align: right;\">         36382.2</td><td>C195600860 </td><td style=\"text-align: right;\">           41898</td><td style=\"text-align: right;\">         40348.8</td><td style=\"text-align: right;\">        0</td><td style=\"text-align: right;\">               0</td></tr>\n",
              "</tbody>\n",
              "</table>"
            ],
            "text/plain": [
              "  #    step  type        amount  nameOrig       oldbalanceOrg    newbalanceOrig  nameDest       oldbalanceDest    newbalanceDest    isFraud    isFlaggedFraud\n",
              "  0       1  PAYMENT    9839.64  C1231006815           170136          160296    M1979787155                 0               0            0                 0\n",
              "  1       1  PAYMENT    1864.28  C1666544295            21249           19384.7  M2044282225                 0               0            0                 0\n",
              "  2       1  TRANSFER    181     C1305486145              181               0    C553264065                  0               0            1                 0\n",
              "  3       1  CASH_OUT    181     C840083671               181               0    C38997010               21182               0            1                 0\n",
              "  4       1  PAYMENT   11668.1   C2048537720            41554           29885.9  M1230701703                 0               0            0                 0\n",
              "  5       1  PAYMENT    7817.71  C90045638              53860           46042.3  M573487274                  0               0            0                 0\n",
              "  6       1  PAYMENT    7107.77  C154988899            183195          176087    M408069119                  0               0            0                 0\n",
              "  7       1  PAYMENT    7861.64  C1912850431           176087          168226    M633326333                  0               0            0                 0\n",
              "  8       1  PAYMENT    4024.36  C1265012928             2671               0    M1176932104                 0               0            0                 0\n",
              "  9       1  DEBIT      5337.77  C712410124             41720           36382.2  C195600860              41898           40348.8          0                 0"
            ]
          },
          "metadata": {},
          "execution_count": 9
        }
      ]
    },
    {
      "cell_type": "code",
      "source": [
        "# Check the distribution of 'type' (transaction types)\n",
        "vaex_df['type'].value_counts()"
      ],
      "metadata": {
        "colab": {
          "base_uri": "https://localhost:8080/",
          "height": 241
        },
        "id": "6gMY2STU8DVd",
        "outputId": "29075389-f47a-4338-f9e0-a613d10c56e4"
      },
      "execution_count": 10,
      "outputs": [
        {
          "output_type": "execute_result",
          "data": {
            "text/plain": [
              "PAYMENT     96310\n",
              "CASH_OUT    94925\n",
              "CASH_IN     57745\n",
              "TRANSFER    22998\n",
              "DEBIT        2079\n",
              "dtype: int64"
            ],
            "text/html": [
              "<div>\n",
              "<style scoped>\n",
              "    .dataframe tbody tr th:only-of-type {\n",
              "        vertical-align: middle;\n",
              "    }\n",
              "\n",
              "    .dataframe tbody tr th {\n",
              "        vertical-align: top;\n",
              "    }\n",
              "\n",
              "    .dataframe thead th {\n",
              "        text-align: right;\n",
              "    }\n",
              "</style>\n",
              "<table border=\"1\" class=\"dataframe\">\n",
              "  <thead>\n",
              "    <tr style=\"text-align: right;\">\n",
              "      <th></th>\n",
              "      <th>0</th>\n",
              "    </tr>\n",
              "  </thead>\n",
              "  <tbody>\n",
              "    <tr>\n",
              "      <th>PAYMENT</th>\n",
              "      <td>96310</td>\n",
              "    </tr>\n",
              "    <tr>\n",
              "      <th>CASH_OUT</th>\n",
              "      <td>94925</td>\n",
              "    </tr>\n",
              "    <tr>\n",
              "      <th>CASH_IN</th>\n",
              "      <td>57745</td>\n",
              "    </tr>\n",
              "    <tr>\n",
              "      <th>TRANSFER</th>\n",
              "      <td>22998</td>\n",
              "    </tr>\n",
              "    <tr>\n",
              "      <th>DEBIT</th>\n",
              "      <td>2079</td>\n",
              "    </tr>\n",
              "  </tbody>\n",
              "</table>\n",
              "</div><br><label><b>dtype:</b> int64</label>"
            ]
          },
          "metadata": {},
          "execution_count": 10
        }
      ]
    },
    {
      "cell_type": "code",
      "source": [
        "# Check how often fraud occurs\n",
        "vaex_df['isFraud'].value_counts()"
      ],
      "metadata": {
        "colab": {
          "base_uri": "https://localhost:8080/",
          "height": 178
        },
        "id": "DO1BIqak8jtQ",
        "outputId": "e94b06c7-4aa0-4b49-c73c-2fafd2e9408f"
      },
      "execution_count": 11,
      "outputs": [
        {
          "output_type": "execute_result",
          "data": {
            "text/plain": [
              "0.0    273887\n",
              "1.0       169\n",
              "NaN         1\n",
              "dtype: int64"
            ],
            "text/html": [
              "<div>\n",
              "<style scoped>\n",
              "    .dataframe tbody tr th:only-of-type {\n",
              "        vertical-align: middle;\n",
              "    }\n",
              "\n",
              "    .dataframe tbody tr th {\n",
              "        vertical-align: top;\n",
              "    }\n",
              "\n",
              "    .dataframe thead th {\n",
              "        text-align: right;\n",
              "    }\n",
              "</style>\n",
              "<table border=\"1\" class=\"dataframe\">\n",
              "  <thead>\n",
              "    <tr style=\"text-align: right;\">\n",
              "      <th></th>\n",
              "      <th>0</th>\n",
              "    </tr>\n",
              "  </thead>\n",
              "  <tbody>\n",
              "    <tr>\n",
              "      <th>0.0</th>\n",
              "      <td>273887</td>\n",
              "    </tr>\n",
              "    <tr>\n",
              "      <th>1.0</th>\n",
              "      <td>169</td>\n",
              "    </tr>\n",
              "    <tr>\n",
              "      <th>NaN</th>\n",
              "      <td>1</td>\n",
              "    </tr>\n",
              "  </tbody>\n",
              "</table>\n",
              "</div><br><label><b>dtype:</b> int64</label>"
            ]
          },
          "metadata": {},
          "execution_count": 11
        }
      ]
    },
    {
      "cell_type": "code",
      "source": [
        "# Count missing values for important columns\n",
        "missing_isFraud = vaex_df['isFraud'].isna().sum()\n",
        "missing_oldbalanceDest = vaex_df['oldbalanceDest'].isna().sum()\n",
        "missing_newbalanceDest = vaex_df['newbalanceDest'].isna().sum()\n",
        "\n",
        "print(f\"Missing in isFraud: {missing_isFraud}\")\n",
        "print(f\"Missing in oldbalanceDest: {missing_oldbalanceDest}\")\n",
        "print(f\"Missing in newbalanceDest: {missing_newbalanceDest}\")"
      ],
      "metadata": {
        "colab": {
          "base_uri": "https://localhost:8080/"
        },
        "id": "e_aHCnP88u_y",
        "outputId": "e0e012fd-b135-479d-88dd-1c1f38cb6534"
      },
      "execution_count": 12,
      "outputs": [
        {
          "output_type": "stream",
          "name": "stdout",
          "text": [
            "Missing in isFraud: 1\n",
            "Missing in oldbalanceDest: 1\n",
            "Missing in newbalanceDest: 1\n"
          ]
        }
      ]
    },
    {
      "cell_type": "code",
      "source": [
        "# Filter out rows where the specified columns have missing values\n",
        "vaex_df = vaex_df[~(vaex_df['isFraud'].isna()) & ~(vaex_df['oldbalanceDest'].isna()) & ~(vaex_df['newbalanceDest'].isna())]"
      ],
      "metadata": {
        "id": "jIeLXzm89M4N"
      },
      "execution_count": 13,
      "outputs": []
    },
    {
      "cell_type": "code",
      "source": [
        "# Get unique values in the 'type' column\n",
        "unique_types = vaex_df['type'].unique()\n",
        "\n",
        "# Create one-hot encoded columns for each unique value in 'type'\n",
        "for category in unique_types:\n",
        "    vaex_df[category] = (vaex_df['type'] == category)\n",
        "\n",
        "# Drop the original 'type' column after encoding\n",
        "vaex_df = vaex_df.drop(columns=['type'])\n",
        "\n",
        "# Check the first few rows after encoding\n",
        "vaex_df.head()"
      ],
      "metadata": {
        "colab": {
          "base_uri": "https://localhost:8080/",
          "height": 269
        },
        "id": "fFeV9bDM9dtS",
        "outputId": "a56ad0bb-436f-4dab-ea5a-5ab84434e314"
      },
      "execution_count": 14,
      "outputs": [
        {
          "output_type": "execute_result",
          "data": {
            "text/html": [
              "<table>\n",
              "<thead>\n",
              "<tr><th>#                            </th><th style=\"text-align: right;\">  step</th><th style=\"text-align: right;\">  amount</th><th>nameOrig   </th><th style=\"text-align: right;\">  oldbalanceOrg</th><th style=\"text-align: right;\">  newbalanceOrig</th><th>nameDest   </th><th style=\"text-align: right;\">  oldbalanceDest</th><th style=\"text-align: right;\">  newbalanceDest</th><th style=\"text-align: right;\">  isFraud</th><th style=\"text-align: right;\">  isFlaggedFraud</th><th>CASH_IN  </th><th>TRANSFER  </th><th>PAYMENT  </th><th>DEBIT  </th><th>CASH_OUT  </th></tr>\n",
              "</thead>\n",
              "<tbody>\n",
              "<tr><td><i style='opacity: 0.6'>0</i></td><td style=\"text-align: right;\">     1</td><td style=\"text-align: right;\"> 9839.64</td><td>C1231006815</td><td style=\"text-align: right;\">         170136</td><td style=\"text-align: right;\">        160296  </td><td>M1979787155</td><td style=\"text-align: right;\">               0</td><td style=\"text-align: right;\">             0  </td><td style=\"text-align: right;\">        0</td><td style=\"text-align: right;\">               0</td><td>False    </td><td>False     </td><td>True     </td><td>False  </td><td>False     </td></tr>\n",
              "<tr><td><i style='opacity: 0.6'>1</i></td><td style=\"text-align: right;\">     1</td><td style=\"text-align: right;\"> 1864.28</td><td>C1666544295</td><td style=\"text-align: right;\">          21249</td><td style=\"text-align: right;\">         19384.7</td><td>M2044282225</td><td style=\"text-align: right;\">               0</td><td style=\"text-align: right;\">             0  </td><td style=\"text-align: right;\">        0</td><td style=\"text-align: right;\">               0</td><td>False    </td><td>False     </td><td>True     </td><td>False  </td><td>False     </td></tr>\n",
              "<tr><td><i style='opacity: 0.6'>2</i></td><td style=\"text-align: right;\">     1</td><td style=\"text-align: right;\">  181   </td><td>C1305486145</td><td style=\"text-align: right;\">            181</td><td style=\"text-align: right;\">             0  </td><td>C553264065 </td><td style=\"text-align: right;\">               0</td><td style=\"text-align: right;\">             0  </td><td style=\"text-align: right;\">        1</td><td style=\"text-align: right;\">               0</td><td>False    </td><td>True      </td><td>False    </td><td>False  </td><td>False     </td></tr>\n",
              "<tr><td><i style='opacity: 0.6'>3</i></td><td style=\"text-align: right;\">     1</td><td style=\"text-align: right;\">  181   </td><td>C840083671 </td><td style=\"text-align: right;\">            181</td><td style=\"text-align: right;\">             0  </td><td>C38997010  </td><td style=\"text-align: right;\">           21182</td><td style=\"text-align: right;\">             0  </td><td style=\"text-align: right;\">        1</td><td style=\"text-align: right;\">               0</td><td>False    </td><td>False     </td><td>False    </td><td>False  </td><td>True      </td></tr>\n",
              "<tr><td><i style='opacity: 0.6'>4</i></td><td style=\"text-align: right;\">     1</td><td style=\"text-align: right;\">11668.1 </td><td>C2048537720</td><td style=\"text-align: right;\">          41554</td><td style=\"text-align: right;\">         29885.9</td><td>M1230701703</td><td style=\"text-align: right;\">               0</td><td style=\"text-align: right;\">             0  </td><td style=\"text-align: right;\">        0</td><td style=\"text-align: right;\">               0</td><td>False    </td><td>False     </td><td>True     </td><td>False  </td><td>False     </td></tr>\n",
              "<tr><td><i style='opacity: 0.6'>5</i></td><td style=\"text-align: right;\">     1</td><td style=\"text-align: right;\"> 7817.71</td><td>C90045638  </td><td style=\"text-align: right;\">          53860</td><td style=\"text-align: right;\">         46042.3</td><td>M573487274 </td><td style=\"text-align: right;\">               0</td><td style=\"text-align: right;\">             0  </td><td style=\"text-align: right;\">        0</td><td style=\"text-align: right;\">               0</td><td>False    </td><td>False     </td><td>True     </td><td>False  </td><td>False     </td></tr>\n",
              "<tr><td><i style='opacity: 0.6'>6</i></td><td style=\"text-align: right;\">     1</td><td style=\"text-align: right;\"> 7107.77</td><td>C154988899 </td><td style=\"text-align: right;\">         183195</td><td style=\"text-align: right;\">        176087  </td><td>M408069119 </td><td style=\"text-align: right;\">               0</td><td style=\"text-align: right;\">             0  </td><td style=\"text-align: right;\">        0</td><td style=\"text-align: right;\">               0</td><td>False    </td><td>False     </td><td>True     </td><td>False  </td><td>False     </td></tr>\n",
              "<tr><td><i style='opacity: 0.6'>7</i></td><td style=\"text-align: right;\">     1</td><td style=\"text-align: right;\"> 7861.64</td><td>C1912850431</td><td style=\"text-align: right;\">         176087</td><td style=\"text-align: right;\">        168226  </td><td>M633326333 </td><td style=\"text-align: right;\">               0</td><td style=\"text-align: right;\">             0  </td><td style=\"text-align: right;\">        0</td><td style=\"text-align: right;\">               0</td><td>False    </td><td>False     </td><td>True     </td><td>False  </td><td>False     </td></tr>\n",
              "<tr><td><i style='opacity: 0.6'>8</i></td><td style=\"text-align: right;\">     1</td><td style=\"text-align: right;\"> 4024.36</td><td>C1265012928</td><td style=\"text-align: right;\">           2671</td><td style=\"text-align: right;\">             0  </td><td>M1176932104</td><td style=\"text-align: right;\">               0</td><td style=\"text-align: right;\">             0  </td><td style=\"text-align: right;\">        0</td><td style=\"text-align: right;\">               0</td><td>False    </td><td>False     </td><td>True     </td><td>False  </td><td>False     </td></tr>\n",
              "<tr><td><i style='opacity: 0.6'>9</i></td><td style=\"text-align: right;\">     1</td><td style=\"text-align: right;\"> 5337.77</td><td>C712410124 </td><td style=\"text-align: right;\">          41720</td><td style=\"text-align: right;\">         36382.2</td><td>C195600860 </td><td style=\"text-align: right;\">           41898</td><td style=\"text-align: right;\">         40348.8</td><td style=\"text-align: right;\">        0</td><td style=\"text-align: right;\">               0</td><td>False    </td><td>False     </td><td>False    </td><td>True   </td><td>False     </td></tr>\n",
              "</tbody>\n",
              "</table>"
            ],
            "text/plain": [
              "  #    step    amount  nameOrig       oldbalanceOrg    newbalanceOrig  nameDest       oldbalanceDest    newbalanceDest    isFraud    isFlaggedFraud  CASH_IN    TRANSFER    PAYMENT    DEBIT    CASH_OUT\n",
              "  0       1   9839.64  C1231006815           170136          160296    M1979787155                 0               0            0                 0  False      False       True       False    False\n",
              "  1       1   1864.28  C1666544295            21249           19384.7  M2044282225                 0               0            0                 0  False      False       True       False    False\n",
              "  2       1    181     C1305486145              181               0    C553264065                  0               0            1                 0  False      True        False      False    False\n",
              "  3       1    181     C840083671               181               0    C38997010               21182               0            1                 0  False      False       False      False    True\n",
              "  4       1  11668.1   C2048537720            41554           29885.9  M1230701703                 0               0            0                 0  False      False       True       False    False\n",
              "  5       1   7817.71  C90045638              53860           46042.3  M573487274                  0               0            0                 0  False      False       True       False    False\n",
              "  6       1   7107.77  C154988899            183195          176087    M408069119                  0               0            0                 0  False      False       True       False    False\n",
              "  7       1   7861.64  C1912850431           176087          168226    M633326333                  0               0            0                 0  False      False       True       False    False\n",
              "  8       1   4024.36  C1265012928             2671               0    M1176932104                 0               0            0                 0  False      False       True       False    False\n",
              "  9       1   5337.77  C712410124             41720           36382.2  C195600860              41898           40348.8          0                 0  False      False       False      True     False"
            ]
          },
          "metadata": {},
          "execution_count": 14
        }
      ]
    },
    {
      "cell_type": "code",
      "source": [
        "# Create new features\n",
        "vaex_df['balanceDeltaOrig'] = vaex_df['oldbalanceOrg'] - vaex_df['newbalanceOrig']\n",
        "vaex_df['balanceDeltaDest'] = vaex_df['oldbalanceDest'] - vaex_df['newbalanceDest']"
      ],
      "metadata": {
        "id": "gGLbDFpy9vFA"
      },
      "execution_count": 15,
      "outputs": []
    },
    {
      "cell_type": "code",
      "source": [
        "# List of numeric columns to scale\n",
        "numeric_columns = ['amount', 'oldbalanceOrg', 'newbalanceOrig', 'oldbalanceDest', 'newbalanceDest']\n",
        "\n",
        "# Apply min-max scaling in Vaex\n",
        "for col in numeric_columns:\n",
        "    min_val = vaex_df[col].min()\n",
        "    max_val = vaex_df[col].max()\n",
        "    vaex_df[col + '_scaled'] = (vaex_df[col] - min_val) / (max_val - min_val)"
      ],
      "metadata": {
        "id": "b-5QAJKy94lw"
      },
      "execution_count": 16,
      "outputs": []
    },
    {
      "cell_type": "code",
      "source": [
        "# Separate features and target variable\n",
        "features = vaex_df.drop(columns=['isFraud'])\n",
        "target = vaex_df['isFraud']"
      ],
      "metadata": {
        "id": "_08KaUvC980K"
      },
      "execution_count": 17,
      "outputs": []
    },
    {
      "cell_type": "code",
      "source": [
        "# Clear any filters in the DataFrame\n",
        "vaex_df = vaex_df.extract()  # This ensures no filtering is applied\n",
        "\n",
        "# Now you can perform train-test split\n",
        "train_vaex, test_vaex = vaex_df.ml.train_test_split(test_size=0.2)\n",
        "\n",
        "# Check the sizes of the training and test sets\n",
        "print(f\"Training set length: {len(train_vaex)}\")\n",
        "print(f\"Test set length: {len(test_vaex)}\")"
      ],
      "metadata": {
        "colab": {
          "base_uri": "https://localhost:8080/"
        },
        "id": "LJNhd5U2-BbC",
        "outputId": "b49a7d08-f9f6-4f81-926f-fabbef145198"
      },
      "execution_count": 18,
      "outputs": [
        {
          "output_type": "stream",
          "name": "stdout",
          "text": [
            "Training set length: 219245\n",
            "Test set length: 54811\n"
          ]
        },
        {
          "output_type": "stream",
          "name": "stderr",
          "text": [
            "/usr/local/lib/python3.10/dist-packages/vaex/ml/__init__.py:28: UserWarning: Make sure the DataFrame is shuffled\n",
            "  warnings.warn('Make sure the DataFrame is shuffled')\n"
          ]
        }
      ]
    },
    {
      "cell_type": "code",
      "source": [
        "import vaex\n",
        "from sklearn.linear_model import LogisticRegression\n",
        "from sklearn.ensemble import RandomForestClassifier\n",
        "from sklearn.metrics import accuracy_score, precision_score, recall_score, f1_score\n",
        "from vaex.ml.sklearn import Predictor"
      ],
      "metadata": {
        "id": "J_Y7xjRe-rcY"
      },
      "execution_count": 19,
      "outputs": []
    },
    {
      "cell_type": "code",
      "source": [
        "# Select features (excluding 'isFraud')\n",
        "features = ['step', 'amount', 'oldbalanceOrg', 'newbalanceOrig', 'oldbalanceDest', 'newbalanceDest',\n",
        "            'CASH_IN', 'CASH_OUT', 'DEBIT', 'PAYMENT', 'TRANSFER']  # Use the correct one-hot columns\n",
        "\n",
        "# Target\n",
        "target = 'isFraud'\n",
        "\n",
        "# Train and test sets\n",
        "X_train = train_vaex[features].to_pandas_df()  # Convert Vaex to Pandas for compatibility\n",
        "y_train = train_vaex[target].to_numpy()  # Get target variable as a NumPy array\n",
        "\n",
        "X_test = test_vaex[features].to_pandas_df()  # Convert Vaex to Pandas for compatibility\n",
        "y_test = test_vaex[target].to_numpy()  # Get target variable as a NumPy array"
      ],
      "metadata": {
        "id": "tzPOKQAc-wJG"
      },
      "execution_count": 20,
      "outputs": []
    },
    {
      "cell_type": "code",
      "source": [
        "# Initialize the Logistic Regression model\n",
        "log_reg = LogisticRegression()\n",
        "\n",
        "# Train the model\n",
        "log_reg.fit(X_train, y_train)\n",
        "\n",
        "# Make predictions\n",
        "y_pred = log_reg.predict(X_test)\n",
        "\n",
        "# Evaluate the model performance\n",
        "accuracy = accuracy_score(y_test, y_pred)\n",
        "precision = precision_score(y_test, y_pred)\n",
        "recall = recall_score(y_test, y_pred)\n",
        "f1 = f1_score(y_test, y_pred)\n",
        "\n",
        "print(f\"Logistic Regression - \\n Accuracy: {accuracy}, \\n Precision: {precision}, \\n Recall: {recall}, \\n F1 Score: {f1}\")"
      ],
      "metadata": {
        "colab": {
          "base_uri": "https://localhost:8080/"
        },
        "id": "NxHfDpndApI2",
        "outputId": "9c6ff5ed-a89a-420c-e35b-136119fe0fc1"
      },
      "execution_count": 21,
      "outputs": [
        {
          "output_type": "stream",
          "name": "stdout",
          "text": [
            "Logistic Regression - \n",
            " Accuracy: 0.9984309718852056, \n",
            " Precision: 0.9375, \n",
            " Recall: 0.15, \n",
            " F1 Score: 0.25862068965517243\n"
          ]
        },
        {
          "output_type": "stream",
          "name": "stderr",
          "text": [
            "/usr/local/lib/python3.10/dist-packages/sklearn/linear_model/_logistic.py:469: ConvergenceWarning: lbfgs failed to converge (status=1):\n",
            "STOP: TOTAL NO. of ITERATIONS REACHED LIMIT.\n",
            "\n",
            "Increase the number of iterations (max_iter) or scale the data as shown in:\n",
            "    https://scikit-learn.org/stable/modules/preprocessing.html\n",
            "Please also refer to the documentation for alternative solver options:\n",
            "    https://scikit-learn.org/stable/modules/linear_model.html#logistic-regression\n",
            "  n_iter_i = _check_optimize_result(\n"
          ]
        }
      ]
    },
    {
      "cell_type": "code",
      "source": [
        "# Initialize the Random Forest Classifier\n",
        "rf_model = RandomForestClassifier()\n",
        "\n",
        "# Train the model\n",
        "rf_model.fit(X_train, y_train)\n",
        "\n",
        "# Make predictions\n",
        "y_pred_rf = rf_model.predict(X_test)\n",
        "\n",
        "# Evaluate the model performance\n",
        "accuracy_rf = accuracy_score(y_test, y_pred_rf)\n",
        "precision_rf = precision_score(y_test, y_pred_rf)\n",
        "recall_rf = recall_score(y_test, y_pred_rf)\n",
        "f1_rf = f1_score(y_test, y_pred_rf)\n",
        "\n",
        "print(f\"Random Forest - \\n Accuracy: {accuracy_rf}, \\n Precision: {precision_rf}, \\n Recall: {recall_rf}, \\n F1 Score: {f1_rf}\")"
      ],
      "metadata": {
        "colab": {
          "base_uri": "https://localhost:8080/"
        },
        "id": "DbkmvDxLA0ht",
        "outputId": "2669a15e-dacc-4a35-f89c-42314e62d54c"
      },
      "execution_count": 22,
      "outputs": [
        {
          "output_type": "stream",
          "name": "stdout",
          "text": [
            "Random Forest - \n",
            " Accuracy: 0.99859517250187, \n",
            " Precision: 1.0, \n",
            " Recall: 0.23, \n",
            " F1 Score: 0.37398373983739835\n"
          ]
        }
      ]
    },
    {
      "cell_type": "code",
      "source": [
        "# Use Vaex's sklearn Predictor to integrate the model with Vaex\n",
        "log_reg_predictor = Predictor(model=log_reg, features=features, target=target)\n",
        "\n",
        "# Attach the model to the training dataset for future predictions\n",
        "train_vaex = log_reg_predictor.transform(train_vaex)\n",
        "test_vaex = log_reg_predictor.transform(test_vaex)\n",
        "\n",
        "# Predict on Vaex DataFrame\n",
        "predictions = train_vaex['prediction'].values  # Get predictions from the attached model"
      ],
      "metadata": {
        "colab": {
          "base_uri": "https://localhost:8080/"
        },
        "id": "CuGqr-5MB2Ab",
        "outputId": "367ebb99-07f8-4364-e3a3-7c837dba5697"
      },
      "execution_count": 23,
      "outputs": [
        {
          "output_type": "stream",
          "name": "stderr",
          "text": [
            "/usr/local/lib/python3.10/dist-packages/sklearn/base.py:493: UserWarning: X does not have valid feature names, but LogisticRegression was fitted with feature names\n",
            "  warnings.warn(\n",
            "/usr/local/lib/python3.10/dist-packages/sklearn/base.py:493: UserWarning: X does not have valid feature names, but LogisticRegression was fitted with feature names\n",
            "  warnings.warn(\n",
            "/usr/local/lib/python3.10/dist-packages/sklearn/base.py:493: UserWarning: X does not have valid feature names, but LogisticRegression was fitted with feature names\n",
            "  warnings.warn(\n",
            "/usr/local/lib/python3.10/dist-packages/sklearn/base.py:493: UserWarning: X does not have valid feature names, but LogisticRegression was fitted with feature names\n",
            "  warnings.warn(\n",
            "/usr/local/lib/python3.10/dist-packages/sklearn/base.py:493: UserWarning: X does not have valid feature names, but LogisticRegression was fitted with feature names\n",
            "  warnings.warn(\n"
          ]
        }
      ]
    },
    {
      "cell_type": "code",
      "source": [
        "# Import necessary libraries\n",
        "from sklearn.ensemble import RandomForestClassifier\n",
        "from xgboost import XGBClassifier\n",
        "from sklearn.svm import SVC\n",
        "from sklearn.metrics import accuracy_score, precision_score, recall_score, f1_score\n",
        "import pandas as pd\n",
        "\n",
        "# Convert Vaex DataFrames to Pandas DataFrames\n",
        "X_train = train_vaex[features].to_pandas_df()\n",
        "y_train = train_vaex[target].to_numpy()\n",
        "\n",
        "X_test = test_vaex[features].to_pandas_df()\n",
        "y_test = test_vaex[target].to_numpy()\n",
        "\n",
        "# Initialize models\n",
        "models = {\n",
        "    \"Logistic Regression\": LogisticRegression(),\n",
        "    \"Random Forest\": RandomForestClassifier(),\n",
        "    \"XGBoost\": XGBClassifier(use_label_encoder=False, eval_metric='logloss'),\n",
        "    \"SVM\": SVC(probability=True)\n",
        "}\n",
        "\n",
        "# Dictionary to hold results\n",
        "results = {}\n",
        "\n",
        "# Train, predict and evaluate each model\n",
        "for model_name, model in models.items():\n",
        "    # Fit the model\n",
        "    model.fit(X_train, y_train)\n",
        "\n",
        "    # Make predictions\n",
        "    y_pred = model.predict(X_test)\n",
        "\n",
        "    # Evaluate performance\n",
        "    accuracy = accuracy_score(y_test, y_pred)\n",
        "    precision = precision_score(y_test, y_pred)\n",
        "    recall = recall_score(y_test, y_pred)\n",
        "    f1 = f1_score(y_test, y_pred)\n",
        "\n",
        "    # Store results\n",
        "    results[model_name] = {\n",
        "        \"Accuracy\": accuracy,\n",
        "        \"Precision\": precision,\n",
        "        \"Recall\": recall,\n",
        "        \"F1 Score\": f1\n",
        "    }\n",
        "\n",
        "# Convert results to DataFrame for better visualization\n",
        "results_df = pd.DataFrame(results).T\n",
        "print(results_df)"
      ],
      "metadata": {
        "colab": {
          "base_uri": "https://localhost:8080/"
        },
        "id": "XSf5-MOMDVhM",
        "outputId": "409875fd-03a1-4d18-e494-a7e21dd33ceb"
      },
      "execution_count": 24,
      "outputs": [
        {
          "output_type": "stream",
          "name": "stderr",
          "text": [
            "/usr/local/lib/python3.10/dist-packages/sklearn/linear_model/_logistic.py:469: ConvergenceWarning: lbfgs failed to converge (status=1):\n",
            "STOP: TOTAL NO. of ITERATIONS REACHED LIMIT.\n",
            "\n",
            "Increase the number of iterations (max_iter) or scale the data as shown in:\n",
            "    https://scikit-learn.org/stable/modules/preprocessing.html\n",
            "Please also refer to the documentation for alternative solver options:\n",
            "    https://scikit-learn.org/stable/modules/linear_model.html#logistic-regression\n",
            "  n_iter_i = _check_optimize_result(\n",
            "/usr/local/lib/python3.10/dist-packages/xgboost/core.py:158: UserWarning: [14:21:12] WARNING: /workspace/src/learner.cc:740: \n",
            "Parameters: { \"use_label_encoder\" } are not used.\n",
            "\n",
            "  warnings.warn(smsg, UserWarning)\n"
          ]
        },
        {
          "output_type": "stream",
          "name": "stdout",
          "text": [
            "                     Accuracy  Precision  Recall  F1 Score\n",
            "Logistic Regression  0.998431   0.937500    0.15  0.258621\n",
            "Random Forest        0.998632   1.000000    0.25  0.400000\n",
            "XGBoost              0.998741   0.942857    0.33  0.488889\n",
            "SVM                  0.998212   1.000000    0.02  0.039216\n"
          ]
        }
      ]
    }
  ]
}